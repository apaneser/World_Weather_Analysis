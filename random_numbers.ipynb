{
 "cells": [
  {
   "cell_type": "code",
   "execution_count": 1,
   "id": "bf2da838",
   "metadata": {},
   "outputs": [],
   "source": [
    "import random"
   ]
  },
  {
   "cell_type": "code",
   "execution_count": 2,
   "id": "ba339f57",
   "metadata": {},
   "outputs": [
    {
     "data": {
      "text/plain": [
       "-82"
      ]
     },
     "execution_count": 2,
     "metadata": {},
     "output_type": "execute_result"
    }
   ],
   "source": [
    "random.randint(-90, 90)"
   ]
  },
  {
   "cell_type": "code",
   "execution_count": 4,
   "id": "8008872c",
   "metadata": {},
   "outputs": [
    {
     "data": {
      "text/plain": [
       "0.4701997633362621"
      ]
     },
     "execution_count": 4,
     "metadata": {},
     "output_type": "execute_result"
    }
   ],
   "source": [
    "random.random()"
   ]
  },
  {
   "cell_type": "code",
   "execution_count": 6,
   "id": "09233a4e",
   "metadata": {},
   "outputs": [
    {
     "data": {
      "text/plain": [
       "74.65005552352585"
      ]
     },
     "execution_count": 6,
     "metadata": {},
     "output_type": "execute_result"
    }
   ],
   "source": [
    "random_number = random.randint(-90, 89) + random.random()\n",
    "random_number"
   ]
  },
  {
   "cell_type": "code",
   "execution_count": 7,
   "id": "3e410cc0",
   "metadata": {},
   "outputs": [
    {
     "data": {
      "text/plain": [
       "[15.365215658232444,\n",
       " -21.96452126729997,\n",
       " -74.93538540396732,\n",
       " 7.82139279193354,\n",
       " 85.71546432230966,\n",
       " -51.846650515853085,\n",
       " 22.51812887381028,\n",
       " -21.762547889306077,\n",
       " -18.618683032742393,\n",
       " 23.179221345849186]"
      ]
     },
     "execution_count": 7,
     "metadata": {},
     "output_type": "execute_result"
    }
   ],
   "source": [
    "x = 1\n",
    "latitudes = []\n",
    "while x < 11:\n",
    "    random_lat = random.randint(-90, 89) + random.random()\n",
    "    latitudes.append(random_lat)\n",
    "    x += 1\n",
    "latitudes"
   ]
  },
  {
   "cell_type": "code",
   "execution_count": 8,
   "id": "aa909804",
   "metadata": {},
   "outputs": [
    {
     "data": {
      "text/plain": [
       "-11.8875888885336"
      ]
     },
     "execution_count": 8,
     "metadata": {},
     "output_type": "execute_result"
    }
   ],
   "source": [
    "random.uniform(-90, 90)"
   ]
  },
  {
   "cell_type": "code",
   "execution_count": 9,
   "id": "94839ddf",
   "metadata": {},
   "outputs": [],
   "source": [
    "# import NumPy module\n",
    "import numpy as np"
   ]
  },
  {
   "cell_type": "code",
   "execution_count": 11,
   "id": "ffb178df",
   "metadata": {},
   "outputs": [
    {
     "data": {
      "text/plain": [
       "array([ 34.4809326 ,   2.43072922, -72.55829657, -21.92523103,\n",
       "       -19.97172952,  27.23081064,  89.02840186,  36.53173312,\n",
       "        46.68183765, -47.37159526, -13.21689452,  50.9593326 ,\n",
       "       -57.99522191,  69.24113391, -48.17660728, -77.79159284,\n",
       "        20.33779926, -13.04196752,  40.59272717, -61.57320746,\n",
       "         2.89270483,   8.05827629, -82.74558795, -53.11230775,\n",
       "       -44.66819234,  32.64669804,  67.06111998,  42.78946615,\n",
       "       -89.66980319,  79.25659866, -34.13156341,  14.3013138 ,\n",
       "       -44.88318612,  23.87481782, -53.89061027,   0.56740205,\n",
       "        44.04219132,  30.08455378,  -4.47677315,  38.157697  ,\n",
       "        82.81017847, -73.00793137,  79.919874  ,  -5.08737892,\n",
       "        72.79064903, -46.11880379,  71.59693202, -85.42567035,\n",
       "        13.66115546,  86.22266685])"
      ]
     },
     "execution_count": 11,
     "metadata": {},
     "output_type": "execute_result"
    }
   ],
   "source": [
    "np.random.uniform(-90.000,90.000, size=50)"
   ]
  },
  {
   "cell_type": "code",
   "execution_count": 12,
   "id": "adb681a9",
   "metadata": {},
   "outputs": [],
   "source": [
    "# import timeit\n",
    "import timeit"
   ]
  },
  {
   "cell_type": "code",
   "execution_count": 14,
   "id": "f0ff696e",
   "metadata": {},
   "outputs": [
    {
     "name": "stdout",
     "output_type": "stream",
     "text": [
      "13.6 µs ± 267 ns per loop (mean ± std. dev. of 7 runs, 100000 loops each)\n"
     ]
    }
   ],
   "source": [
    "%timeit np.random.uniform(-90.000,90.000,size=1500)"
   ]
  },
  {
   "cell_type": "code",
   "execution_count": 18,
   "id": "7865e1fd",
   "metadata": {},
   "outputs": [
    {
     "name": "stdout",
     "output_type": "stream",
     "text": [
      "2.21 ms ± 39 µs per loop (mean ± std. dev. of 7 runs, 100 loops each)\n"
     ]
    }
   ],
   "source": [
    "def latitudes(size):\n",
    "    latitudes = []\n",
    "    x=0\n",
    "    for x in range(0,size):\n",
    "        random_lat = random.randint(-90, 89) + random.random()\n",
    "        latitudes.append(random_lat)\n",
    "    return latitudes\n",
    "\n",
    "# call the function with 1500\n",
    "%timeit latitudes(1500)"
   ]
  },
  {
   "cell_type": "code",
   "execution_count": null,
   "id": "485c2640",
   "metadata": {},
   "outputs": [],
   "source": []
  },
  {
   "cell_type": "code",
   "execution_count": null,
   "id": "fbfb035c",
   "metadata": {},
   "outputs": [],
   "source": []
  }
 ],
 "metadata": {
  "kernelspec": {
   "display_name": "PythonData",
   "language": "python",
   "name": "pythondata"
  },
  "language_info": {
   "codemirror_mode": {
    "name": "ipython",
    "version": 3
   },
   "file_extension": ".py",
   "mimetype": "text/x-python",
   "name": "python",
   "nbconvert_exporter": "python",
   "pygments_lexer": "ipython3",
   "version": "3.7.10"
  }
 },
 "nbformat": 4,
 "nbformat_minor": 5
}
